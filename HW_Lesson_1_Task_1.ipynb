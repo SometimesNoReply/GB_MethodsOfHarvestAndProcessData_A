{
 "cells": [
  {
   "cell_type": "markdown",
   "metadata": {},
   "source": [
    "### Задание 1.\n",
    "\n",
    "- Посмотреть документацию к API GitHub,\n",
    "- разобраться как вывести список репозиториев для конкретного пользователя,\n",
    "- сохранить JSON-вывод в файле *.json."
   ]
  },
  {
   "cell_type": "code",
   "execution_count": 1,
   "metadata": {},
   "outputs": [],
   "source": [
    "# REST    API v3 - https://developer.github.com/v3/\n",
    "# GraphQL API v4 - https://developer.github.com/v4/"
   ]
  },
  {
   "cell_type": "code",
   "execution_count": 2,
   "metadata": {},
   "outputs": [],
   "source": [
    "import requests\n",
    "from getpass import getpass\n",
    "import json"
   ]
  },
  {
   "cell_type": "markdown",
   "metadata": {},
   "source": [
    "#### Настройки"
   ]
  },
  {
   "cell_type": "code",
   "execution_count": 3,
   "metadata": {},
   "outputs": [],
   "source": [
    "GIT_API_URL='https://api.github.com'\n",
    "REST_MASK__INFO_ABOUT_THE_USER_REPOS = '/users/#username#/repos'"
   ]
  },
  {
   "cell_type": "code",
   "execution_count": 4,
   "metadata": {},
   "outputs": [],
   "source": [
    "# Заголовки Google Chrome\n",
    "HEADERS = {\n",
    "    'User-Agent': 'Mozilla/5.0 (Windows NT 6.1; Win64; x64)'\n",
    "                  ' AppleWebKit/537.36 (KHTML, like Gecko)'\n",
    "                  ' Chrome/83.0.4103.106 Safari/537.36',\n",
    "    'Accept': 'application/vnd.github.v3+json' \n",
    "    # 'Accept': '*/*'\n",
    "        }"
   ]
  },
  {
   "cell_type": "code",
   "execution_count": 5,
   "metadata": {},
   "outputs": [],
   "source": [
    "# Параметры запроса\n",
    "params = {\n",
    "    'type': 'owner',\n",
    "    'sort': 'created',\n",
    "    'direction': 'desc'\n",
    "}"
   ]
  },
  {
   "cell_type": "code",
   "execution_count": 6,
   "metadata": {},
   "outputs": [],
   "source": [
    "# Интересуемый субъект\n",
    "target_github_users = ['Unexisting_user', 'axeldawya', 'test','ivanov']"
   ]
  },
  {
   "cell_type": "code",
   "execution_count": 7,
   "metadata": {},
   "outputs": [],
   "source": [
    "# Авторизация\n",
    "\n",
    "github_u, github_p = '', ''\n",
    "# github_u, github_p = input(\"GitHub login:\"), getpass(prompt=\"GitHub password:\")  \n",
    "\n",
    "the_auth = None\n",
    "if github_u != '':\n",
    "    the_auth = (github_u, github_p)"
   ]
  },
  {
   "cell_type": "markdown",
   "metadata": {},
   "source": [
    "#### Вспомогательные функции"
   ]
  },
  {
   "cell_type": "code",
   "execution_count": 8,
   "metadata": {},
   "outputs": [],
   "source": [
    "def request_info(p_the_URL, p_headers, p_params, p_auth):\n",
    "\n",
    "    return_data = {}\n",
    "    response = requests.get(p_the_URL, headers=p_headers, params=p_params, auth=p_auth)\n",
    "    #print(f'...response.url         = {response.url}')\n",
    "    #print(f'...response.status_code = {response.status_code}')\n",
    "    #print(f'...response.ok          = {response.ok}')\n",
    "    #print(f'...response.text        = {response.text}')\n",
    "    #print(f'...response.json()      = {response.json()}')\n",
    "\n",
    "    if response.ok:\n",
    "        if response.status_code == 200:\n",
    "            return_data = response.json()\n",
    "    else:\n",
    "        if response.status_code == 404:\n",
    "            if response.json().get('message') == 'Not Found':\n",
    "                return_data = None\n",
    "\n",
    "    return return_data"
   ]
  },
  {
   "cell_type": "code",
   "execution_count": 9,
   "metadata": {},
   "outputs": [],
   "source": [
    "def show_info(repos):\n",
    "    if repos is None:\n",
    "        print('  User is not found')\n",
    "    else:\n",
    "        if len(repos) == 0:\n",
    "            print('  User has no specified public repositories to show')\n",
    "        else:\n",
    "            for i_repo in repos:\n",
    "                if not i_repo['private']:\n",
    "                    print('-', i_repo['html_url'])"
   ]
  },
  {
   "cell_type": "code",
   "execution_count": 12,
   "metadata": {},
   "outputs": [],
   "source": [
    "def save_info(p_git_user, p_json_data):\n",
    "    json_filename = f'github_repositories_of_user_{p_git_user}.json'\n",
    "    \n",
    "    try:\n",
    "        with open(json_filename, 'w', encoding='utf-8') as the_file:\n",
    "            json.dump(p_json_data, the_file, ensure_ascii=False, indent=4)\n",
    "    except IOError:\n",
    "        print(f'  Внимание! Не удалось сохранить данные в файл \"{json_filename}\"!')\n",
    "    else:\n",
    "        print(f'  Данные записаны в файл \"{json_filename}\"')"
   ]
  },
  {
   "cell_type": "markdown",
   "metadata": {},
   "source": [
    "#### Зрелище"
   ]
  },
  {
   "cell_type": "code",
   "execution_count": 13,
   "metadata": {},
   "outputs": [
    {
     "name": "stdout",
     "output_type": "stream",
     "text": [
      "User: Unexisting_user\n",
      "  User is not found\n",
      "User: axeldawya\n",
      "  User has no specified public repositories to show\n",
      "User: test\n",
      "- https://github.com/test/HelloWorld\n",
      "- https://github.com/test/SDWebImage\n",
      "- https://github.com/test/Test--01\n",
      "- https://github.com/test/rokehan\n",
      "- https://github.com/test/sNews\n",
      "  Данные записаны в файл \"github_repositories_of_user_test.json\"\n",
      "User: ivanov\n",
      "- https://github.com/ivanov/jlsp-test-drive\n",
      "- https://github.com/ivanov/pep582\n",
      "- https://github.com/ivanov/asterisk-blog\n",
      "- https://github.com/ivanov/pipx\n",
      "- https://github.com/ivanov/lz4\n",
      "- https://github.com/ivanov/summit\n",
      "- https://github.com/ivanov/jothon-net\n",
      "- https://github.com/ivanov/matplotlib-wheels\n",
      "- https://github.com/ivanov/voila\n",
      "- https://github.com/ivanov/jupyter_client\n",
      "- https://github.com/ivanov/ipynb\n",
      "- https://github.com/ivanov/cellout\n",
      "- https://github.com/ivanov/husky\n",
      "- https://github.com/ivanov/potatoes\n",
      "- https://github.com/ivanov/global-sprint\n",
      "- https://github.com/ivanov/scientific-python-cookiecutter\n",
      "- https://github.com/ivanov/jupyterlab-feedstock\n",
      "- https://github.com/ivanov/servant-dhall\n",
      "- https://github.com/ivanov/unyt\n",
      "- https://github.com/ivanov/jupyterlab_launcher\n",
      "- https://github.com/ivanov/attending\n",
      "- https://github.com/ivanov/science-project\n",
      "- https://github.com/ivanov/grave\n",
      "- https://github.com/ivanov/conferences\n",
      "- https://github.com/ivanov/datarray\n",
      "- https://github.com/ivanov/orly-full-res\n",
      "- https://github.com/ivanov/front-to-back\n",
      "- https://github.com/ivanov/popular-front\n",
      "- https://github.com/ivanov/jupyterlab-examples\n",
      "- https://github.com/ivanov/pomegranate\n",
      "  Данные записаны в файл \"github_repositories_of_user_ivanov.json\"\n"
     ]
    }
   ],
   "source": [
    "for i_target_user in target_github_users:\n",
    "    \n",
    "    # prepare\n",
    "    i_URL = GIT_API_URL + REST_MASK__INFO_ABOUT_THE_USER_REPOS.replace(\"#username#\", i_target_user)\n",
    "    print(f'User: {i_target_user}')\n",
    "    \n",
    "    # request for user repositories\n",
    "    repos = request_info(i_URL, HEADERS, params, the_auth)\n",
    "    \n",
    "    # show results\n",
    "    show_info(repos)\n",
    "                    \n",
    "    # save data to files\n",
    "    if repos:\n",
    "        save_info(i_target_user, repos)"
   ]
  },
  {
   "cell_type": "markdown",
   "metadata": {},
   "source": [
    "#### Текущие недостатки решения\n",
    "По умолчанию действует ограничение на 30 записей. Поэтому нужно еще поработать над получением полной выборки"
   ]
  }
 ],
 "metadata": {
  "kernelspec": {
   "display_name": "Python 3",
   "language": "python",
   "name": "python3"
  },
  "language_info": {
   "codemirror_mode": {
    "name": "ipython",
    "version": 3
   },
   "file_extension": ".py",
   "mimetype": "text/x-python",
   "name": "python",
   "nbconvert_exporter": "python",
   "pygments_lexer": "ipython3",
   "version": "3.7.6"
  }
 },
 "nbformat": 4,
 "nbformat_minor": 4
}
