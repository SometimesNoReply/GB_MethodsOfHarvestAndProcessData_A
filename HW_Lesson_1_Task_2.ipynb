{
 "cells": [
  {
   "cell_type": "markdown",
   "metadata": {},
   "source": [
    "### Задание 2.\n",
    "\n",
    "- Изучить список открытых API (https://www.programmableweb.com/category/all/apis).\n",
    "- Найти среди них любое, требующее авторизацию (любого типа).\n",
    "- Выполнить запросы к нему, пройдя авторизацию.\n",
    "- Ответ сервера записать в файл."
   ]
  },
  {
   "cell_type": "code",
   "execution_count": 1,
   "metadata": {},
   "outputs": [],
   "source": [
    "from requests import get\n",
    "import json"
   ]
  },
  {
   "cell_type": "markdown",
   "metadata": {},
   "source": [
    "#### Скромные бесплатные услуги (похоже за ключ нужно платить-переписываться, а времени нет)"
   ]
  },
  {
   "cell_type": "code",
   "execution_count": 2,
   "metadata": {},
   "outputs": [
    {
     "name": "stdout",
     "output_type": "stream",
     "text": [
      "ip: {\"error\": true, \"reason\": \"RateLimited\", \"message\": \"Please contact or sign-up for IP Lookup @ https://ipapi.co\"}\n",
      "region: Ryazan Oblast\n",
      "region_code: RYA\n",
      "city: Ryazan\n",
      "country: {\"error\": true, \"reason\": \"RateLimited\", \"message\": \"Please contact or sign-up for IP Lookup @ https://ipapi.co\"}\n",
      "timezone: Europe/Moscow\n",
      "languages: ru,tt,xal,cau,ady,kv,ce,tyv,cv,udm,tut,mns,bua,myv,mdf,chm,ba,inh,tut,kbd,krc,av,sah,nog\n",
      "currency: RUB\n"
     ]
    }
   ],
   "source": [
    "print('ip:', get('https://ipapi.co/ip/').text)\n",
    "print('region:', get('https://ipapi.co/region/').text)\n",
    "print('region_code:', get('https://ipapi.co/region_code/').text)\n",
    "print('city:', get('https://ipapi.co/city/').text)\n",
    "print('country:', get('https://ipapi.co/country/').text)\n",
    "print('timezone:', get('https://ipapi.co/timezone/').text)\n",
    "print('languages:', get('https://ipapi.co/languages/').text)\n",
    "print('currency:', get('https://ipapi.co/currency/').text)"
   ]
  },
  {
   "cell_type": "markdown",
   "metadata": {},
   "source": [
    "#### Щедрые платные услуги, если заплатиль. Но хотя бы ключ выдают."
   ]
  },
  {
   "cell_type": "code",
   "execution_count": 3,
   "metadata": {},
   "outputs": [],
   "source": [
    "YOUR_ACCESS_KEY = '*** !!! подставьте ваш ключ !!! ***'\n",
    "target_ip = '178.248.232.209'"
   ]
  },
  {
   "cell_type": "code",
   "execution_count": 4,
   "metadata": {},
   "outputs": [],
   "source": [
    "# Заголовки Google Chrome\n",
    "HEADERS = {\n",
    "    'User-Agent': 'Mozilla/5.0 (Windows NT 6.1; Win64; x64)'\n",
    "                  ' AppleWebKit/537.36 (KHTML, like Gecko)'\n",
    "                  ' Chrome/83.0.4103.106 Safari/537.36',\n",
    "    'Accept': '*/*'\n",
    "        }"
   ]
  },
  {
   "cell_type": "code",
   "execution_count": 5,
   "metadata": {},
   "outputs": [
    {
     "data": {
      "text/plain": [
       "{'success': False,\n",
       " 'error': {'code': 105,\n",
       "  'type': 'https_access_restricted',\n",
       "  'info': 'Access Restricted - Your current Subscription Plan does not support HTTPS Encryption.'}}"
      ]
     },
     "execution_count": 5,
     "metadata": {},
     "output_type": "execute_result"
    }
   ],
   "source": [
    "loc = get(f'https://api.ipapi.com/api/{target_ip}/?access_key={YOUR_ACCESS_KEY}', headers=HEADERS)\n",
    "loc.json()"
   ]
  },
  {
   "cell_type": "code",
   "execution_count": 6,
   "metadata": {},
   "outputs": [
    {
     "data": {
      "text/plain": [
       "{'ip': '178.248.232.209/',\n",
       " 'type': None,\n",
       " 'continent_code': None,\n",
       " 'continent_name': None,\n",
       " 'country_code': None,\n",
       " 'country_name': None,\n",
       " 'region_code': None,\n",
       " 'region_name': None,\n",
       " 'city': None,\n",
       " 'zip': None,\n",
       " 'latitude': None,\n",
       " 'longitude': None,\n",
       " 'location': {'geoname_id': None,\n",
       "  'capital': None,\n",
       "  'languages': None,\n",
       "  'country_flag': None,\n",
       "  'country_flag_emoji': None,\n",
       "  'country_flag_emoji_unicode': None,\n",
       "  'calling_code': None,\n",
       "  'is_eu': None}}"
      ]
     },
     "execution_count": 6,
     "metadata": {},
     "output_type": "execute_result"
    }
   ],
   "source": [
    "loc = get(f'http://api.ipapi.com/api/{target_ip}/?access_key={YOUR_ACCESS_KEY}', headers=HEADERS)\n",
    "loc.json()"
   ]
  },
  {
   "cell_type": "code",
   "execution_count": 7,
   "metadata": {},
   "outputs": [
    {
     "name": "stdout",
     "output_type": "stream",
     "text": [
      "  Данные записаны в файл \"ip_data_178.248.232.209.json\"\n"
     ]
    }
   ],
   "source": [
    "json_filename = f'ip_data_{target_ip}.json'\n",
    "  \n",
    "try:\n",
    "    with open(json_filename, 'w', encoding='utf-8') as the_file:\n",
    "        json.dump(loc.json(), the_file, ensure_ascii=False, indent=4)\n",
    "except IOError:\n",
    "    print(f'  Внимание! Не удалось сохранить данные в файл \"{json_filename}\"!')\n",
    "else:\n",
    "    print(f'  Данные записаны в файл \"{json_filename}\"')"
   ]
  }
 ],
 "metadata": {
  "kernelspec": {
   "display_name": "Python 3",
   "language": "python",
   "name": "python3"
  },
  "language_info": {
   "codemirror_mode": {
    "name": "ipython",
    "version": 3
   },
   "file_extension": ".py",
   "mimetype": "text/x-python",
   "name": "python",
   "nbconvert_exporter": "python",
   "pygments_lexer": "ipython3",
   "version": "3.7.6"
  }
 },
 "nbformat": 4,
 "nbformat_minor": 4
}
